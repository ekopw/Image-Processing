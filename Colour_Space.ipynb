{
  "nbformat": 4,
  "nbformat_minor": 0,
  "metadata": {
    "colab": {
      "name": "Colour Space.ipynb",
      "provenance": [],
      "collapsed_sections": [],
      "authorship_tag": "ABX9TyMaVsfpw0hQgQKSlpISvv4f",
      "include_colab_link": true
    },
    "kernelspec": {
      "name": "python3",
      "display_name": "Python 3"
    },
    "language_info": {
      "name": "python"
    }
  },
  "cells": [
    {
      "cell_type": "markdown",
      "metadata": {
        "id": "view-in-github",
        "colab_type": "text"
      },
      "source": [
        "<a href=\"https://colab.research.google.com/github/ekopw/Image-Processing/blob/main/Colour_Space.ipynb\" target=\"_parent\"><img src=\"https://colab.research.google.com/assets/colab-badge.svg\" alt=\"Open In Colab\"/></a>"
      ]
    },
    {
      "cell_type": "code",
      "execution_count": null,
      "metadata": {
        "id": "FwaYY9JLKoRh"
      },
      "outputs": [],
      "source": [
        "import numpy as np\n",
        "import cv2 as cv\n",
        "import pandas as pd\n",
        "from google.colab.patches import cv2_imshow"
      ]
    },
    {
      "cell_type": "code",
      "source": [
        "img = cv.imread('landscape.jpg')\n",
        "\n",
        "#Blue channel image\n",
        "b = img.copy()\n",
        "#Set green and red channel to 0\n",
        "b[:, :, 1] = 0\n",
        "b[:, :, 2] = 0\n",
        "\n",
        "#Green channel image\n",
        "g = img.copy()\n",
        "#Set blue and red channel to 0\n",
        "g[:, :, 0] = 0\n",
        "g[:, :, 2] = 0\n",
        "\n",
        "#Red channel image\n",
        "r = img.copy()\n",
        "#Set blue and green channel to 0\n",
        "r[:, :, 0] = 0\n",
        "r[:, :, 1] = 0\n",
        "\n",
        "cv2_imshow(b)\n",
        "cv.imwrite('Blue_channel.jpg', b)\n",
        "\n",
        "cv2_imshow(g)\n",
        "cv.imwrite('Green_channel.jpg', g)\n",
        "\n",
        "cv2_imshow(r)\n",
        "cv.imwrite('Red_channel.jpg', r)"
      ],
      "metadata": {
        "colab": {
          "base_uri": "https://localhost:8080/",
          "height": 1000
        },
        "id": "ZckzXbH5LamP",
        "outputId": "4b3d83fb-039f-46fc-8efe-ed6889d5e625"
      },
      "execution_count": null,
      "outputs": []
    },
    {
      "cell_type": "code",
      "source": [
        "#grayscale representation of blue channel\n",
        "gray_b = cv.cvtColor(b, cv.COLOR_BGR2GRAY)\n",
        "\n",
        "#grayscale representation of blue channel\n",
        "gray_g = cv.cvtColor(g, cv.COLOR_BGR2GRAY)\n",
        "\n",
        "#grayscale representation of blue channel\n",
        "gray_r = cv.cvtColor(r, cv.COLOR_BGR2GRAY)\n",
        "\n",
        "cv2_imshow(gray_b)\n",
        "cv.imwrite('Blue_channel.jpg', gray_b)\n",
        "\n",
        "cv2_imshow(gray_g)\n",
        "cv.imwrite('Green_channel.jpg', gray_g)\n",
        "\n",
        "cv2_imshow(gray_r)\n",
        "cv.imwrite('Red_channel.jpg', gray_r)"
      ],
      "metadata": {
        "colab": {
          "base_uri": "https://localhost:8080/",
          "height": 1000
        },
        "id": "8wV-s4TPOP68",
        "outputId": "f9d134af-5885-4cbb-d8d7-edc7e24b48cd"
      },
      "execution_count": null,
      "outputs": []
    }
  ]
}